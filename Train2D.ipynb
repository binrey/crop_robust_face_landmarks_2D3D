{
 "cells": [
  {
   "cell_type": "markdown",
   "metadata": {
    "deletable": false,
    "editable": false,
    "run_control": {
     "frozen": true
    }
   },
   "source": [
    "# Train 2D landmarks detector"
   ]
  },
  {
   "cell_type": "code",
   "execution_count": 1,
   "metadata": {
    "ExecuteTime": {
     "end_time": "2022-04-13T13:36:08.912308Z",
     "start_time": "2022-04-13T13:35:59.932416Z"
    }
   },
   "outputs": [],
   "source": [
    "import os\n",
    "import matplotlib\n",
    "import cv2\n",
    "import sys\n",
    "import numpy as np\n",
    "from matplotlib import pyplot as plt\n",
    "from datatools import Loader2D, Generator, Aug2D\n",
    "from traintools import plot_history, get_callbacks, create_dirs\n",
    "from testtools import plot2D\n",
    "\n",
    "os.environ[\"CUDA_DEVICE_ORDER\"] = \"PCI_BUS_ID\"\n",
    "os.environ[\"CUDA_VISIBLE_DEVICES\"] = \"0\" # gpu id to use\n",
    "\n",
    "%matplotlib inline\n",
    "%load_ext autoreload\n",
    "%autoreload 2"
   ]
  },
  {
   "cell_type": "markdown",
   "metadata": {
    "deletable": false,
    "editable": false,
    "run_control": {
     "frozen": true
    }
   },
   "source": [
    "## Main settings"
   ]
  },
  {
   "cell_type": "code",
   "execution_count": 2,
   "metadata": {
    "ExecuteTime": {
     "end_time": "2022-04-13T13:36:10.390144Z",
     "start_time": "2022-04-13T13:36:10.131950Z"
    }
   },
   "outputs": [],
   "source": [
    "data_dir = \"300W\"\n",
    "project_name = \"new\"\n",
    "imsize = (64, 64)\n",
    "used_lmarks = None"
   ]
  },
  {
   "cell_type": "code",
   "execution_count": null,
   "metadata": {},
   "outputs": [],
   "source": [
    "# Choise only needed landmarks or skip this cell\n",
    "used_lmarks = []\n",
    "for i in [8, 30, 36, 39, 42, 45, 48, 54]:\n",
    "    used_lmarks += list(range(i*2, i*2+2))"
   ]
  },
  {
   "cell_type": "markdown",
   "metadata": {
    "deletable": false,
    "editable": false,
    "run_control": {
     "frozen": true
    }
   },
   "source": [
    "## Data loaders initialization and checkup"
   ]
  },
  {
   "cell_type": "code",
   "execution_count": 3,
   "metadata": {
    "ExecuteTime": {
     "end_time": "2022-04-13T13:36:11.879620Z",
     "start_time": "2022-04-13T13:36:11.590303Z"
    }
   },
   "outputs": [],
   "source": [
    "loader_train = Loader2D(data_dir=os.path.join(data_dir, \"train_crop\"), \n",
    "                        img_size=imsize, \n",
    "                        valid_size=0, \n",
    "                        augmenter=Aug2D(),\n",
    "                        used_lmarks=used_lmarks\n",
    "                       )   \n",
    "loader_valid = Loader2D(data_dir=os.path.join(data_dir, \"test_crop\"), \n",
    "                        img_size=imsize, \n",
    "                        valid_size=1, \n",
    "                        augmenter=None,\n",
    "                        used_lmarks=used_lmarks\n",
    "                       )  "
   ]
  },
  {
   "cell_type": "code",
   "execution_count": 8,
   "metadata": {
    "ExecuteTime": {
     "end_time": "2022-04-13T13:37:01.592259Z",
     "start_time": "2022-04-13T13:37:01.114662Z"
    }
   },
   "outputs": [
    {
     "name": "stdout",
     "output_type": "stream",
     "text": [
      "(8, 64, 64, 1) (8, 136)\n",
      "(8, 64, 64, 1) (8, 136)\n",
      "(8, 64, 64, 1) (8, 136)\n"
     ]
    }
   ],
   "source": [
    "# Test a generator\n",
    "n = 0\n",
    "for x, y in Generator(loader_valid, 8).get_iterator(train=False):\n",
    "    n += 1\n",
    "    print(x.shape, y.shape)\n",
    "    if n >= 3:\n",
    "        break"
   ]
  },
  {
   "cell_type": "code",
   "execution_count": 9,
   "metadata": {
    "ExecuteTime": {
     "end_time": "2022-04-13T13:37:09.987518Z",
     "start_time": "2022-04-13T13:37:09.522384Z"
    }
   },
   "outputs": [
    {
     "name": "stdout",
     "output_type": "stream",
     "text": [
      "img min/max: 21.0 255.0\n"
     ]
    },
    {
     "data": {
      "image/png": "[encoded data removed]",
      "text/plain": [
       "<Figure size 432x288 with 1 Axes>"
      ]
     },
     "metadata": {
      "needs_background": "light"
     },
     "output_type": "display_data"
    }
   ],
   "source": [
    "x, y = loader_train.get_item(loader_train.train_set[np.random.randint(10)])\n",
    "plot2D(x, y.reshape(-1, 2))\n",
    "print(\"image min/max:\", x.min(), x.max())"
   ]
  },
  {
   "cell_type": "markdown",
   "metadata": {
    "deletable": false,
    "editable": false,
    "run_control": {
     "frozen": true
    }
   },
   "source": [
    "## Model initialization"
   ]
  },
  {
   "cell_type": "code",
   "execution_count": 10,
   "metadata": {
    "ExecuteTime": {
     "end_time": "2022-04-13T13:37:11.742413Z",
     "start_time": "2022-04-13T13:37:11.193621Z"
    }
   },
   "outputs": [
    {
     "name": "stdout",
     "output_type": "stream",
     "text": [
      "Model: \"landmarks-vanilla2d\"\n",
      "____________________________________________________________________________________________________\n",
      "Layer (type)                                 Output Shape                            Param #        \n",
      "====================================================================================================\n",
      "data (InputLayer)                            [(None, 64, 64, 1)]                     0              \n",
      "____________________________________________________________________________________________________\n",
      "lambda (Lambda)                              (None, 64, 64, 1)                       0              \n",
      "____________________________________________________________________________________________________\n",
      "conv_block_01_conv (Conv2D)                  (None, 64, 64, 16)                      416            \n",
      "____________________________________________________________________________________________________\n",
      "conv_block_01_act (Activation)               (None, 64, 64, 16)                      0              \n",
      "____________________________________________________________________________________________________\n",
      "pool_01 (MaxPooling2D)                       (None, 32, 32, 16)                      0              \n",
      "____________________________________________________________________________________________________\n",
      "conv_block_02_conv (Conv2D)                  (None, 32, 32, 32)                      4640           \n",
      "____________________________________________________________________________________________________\n",
      "conv_block_02_act (Activation)               (None, 32, 32, 32)                      0              \n",
      "____________________________________________________________________________________________________\n",
      "pool_02 (MaxPooling2D)                       (None, 16, 16, 32)                      0              \n",
      "____________________________________________________________________________________________________\n",
      "conv_block_03_conv (Conv2D)                  (None, 16, 16, 48)                      13872          \n",
      "____________________________________________________________________________________________________\n",
      "conv_block_03_act (Activation)               (None, 16, 16, 48)                      0              \n",
      "____________________________________________________________________________________________________\n",
      "pool_03 (MaxPooling2D)                       (None, 8, 8, 48)                        0              \n",
      "____________________________________________________________________________________________________\n",
      "conv_block_04_conv (Conv2D)                  (None, 8, 8, 64)                        27712          \n",
      "____________________________________________________________________________________________________\n",
      "conv_block_04_act (Activation)               (None, 8, 8, 64)                        0              \n",
      "____________________________________________________________________________________________________\n",
      "pool_04 (MaxPooling2D)                       (None, 4, 4, 64)                        0              \n",
      "____________________________________________________________________________________________________\n",
      "conv_block_05_conv (Conv2D)                  (None, 4, 4, 96)                        55392          \n",
      "____________________________________________________________________________________________________\n",
      "conv_block_05_act (Activation)               (None, 4, 4, 96)                        0              \n",
      "____________________________________________________________________________________________________\n",
      "flatten (Flatten)                            (None, 1536)                            0              \n",
      "____________________________________________________________________________________________________\n",
      "dense_01 (Dense)                             (None, 136)                             209032         \n",
      "____________________________________________________________________________________________________\n",
      "dense_lmarks (Dense)                         (None, 136)                             18632          \n",
      "====================================================================================================\n",
      "Total params: 329,696\n",
      "Trainable params: 329,696\n",
      "Non-trainable params: 0\n",
      "____________________________________________________________________________________________________\n",
      "None\n"
     ]
    }
   ],
   "source": [
    "from models import vanilla, fconv2d\n",
    "\n",
    "model = vanilla((imsize[1], imsize[0], 1))\n",
    "print(model.summary(100))"
   ]
  },
  {
   "cell_type": "code",
   "execution_count": 11,
   "metadata": {
    "ExecuteTime": {
     "end_time": "2022-04-13T13:37:13.663822Z",
     "start_time": "2022-04-13T13:37:13.386574Z"
    }
   },
   "outputs": [],
   "source": [
    "from tensorflow.keras.optimizers import Adam\n",
    "logdir = create_dirs(project_name)\n",
    "\n",
    "model.compile(loss=\"mean_absolute_error\", optimizer=Adam())"
   ]
  },
  {
   "cell_type": "markdown",
   "metadata": {},
   "source": [
    "## Start training"
   ]
  },
  {
   "cell_type": "code",
   "execution_count": 12,
   "metadata": {
    "ExecuteTime": {
     "end_time": "2022-04-13T13:37:19.379532Z",
     "start_time": "2022-04-13T13:37:19.096183Z"
    }
   },
   "outputs": [],
   "source": [
    "gen_train = Generator(loader_train, 4)\n",
    "gen_valid = Generator(loader_valid, 4)"
   ]
  },
  {
   "cell_type": "code",
   "execution_count": null,
   "metadata": {
    "ExecuteTime": {
     "start_time": "2022-04-13T13:37:20.109Z"
    }
   },
   "outputs": [
    {
     "name": "stdout",
     "output_type": "stream",
     "text": [
      "WARNING:tensorflow:From C:\\Users\\binrey\\AppData\\Local\\Temp\\ipykernel_23876\\4245606635.py:8: Model.fit_generator (from tensorflow.python.keras.engine.training) is deprecated and will be removed in a future version.\n",
      "Instructions for updating:\n",
      "Please use Model.fit, which supports generators.\n",
      "Epoch 1/400\n",
      "20/20 [==============================] - ETA: 0s - loss: 0.2447\n",
      "Epoch 00001: val_loss improved from inf to 0.12367, saving model to ./new\\checkpoints\\model.h5\n",
      "20/20 [==============================] - 2s 109ms/step - loss: 0.2447 - val_loss: 0.1237\n",
      "Epoch 2/400\n",
      "20/20 [==============================] - ETA: 0s - loss: 0.1033\n",
      "Epoch 00002: val_loss improved from 0.12367 to 0.08138, saving model to ./new\\checkpoints\\model.h5\n",
      "20/20 [==============================] - 2s 93ms/step - loss: 0.1033 - val_loss: 0.0814\n",
      "Epoch 3/400\n",
      "20/20 [==============================] - ETA: 0s - loss: 0.0749\n",
      "Epoch 00003: val_loss did not improve from 0.08138\n",
      "20/20 [==============================] - 2s 88ms/step - loss: 0.0749 - val_loss: 0.0856\n",
      "Epoch 4/400\n",
      "20/20 [==============================] - ETA: 0s - loss: 0.0813\n",
      "Epoch 00004: val_loss improved from 0.08138 to 0.08067, saving model to ./new\\checkpoints\\model.h5\n",
      "20/20 [==============================] - 2s 94ms/step - loss: 0.0813 - val_loss: 0.0807\n",
      "Epoch 5/400\n",
      "20/20 [==============================] - ETA: 0s - loss: 0.0833\n",
      "Epoch 00005: val_loss improved from 0.08067 to 0.06807, saving model to ./new\\checkpoints\\model.h5\n",
      "20/20 [==============================] - 2s 95ms/step - loss: 0.0833 - val_loss: 0.0681\n",
      "Epoch 6/400\n",
      "20/20 [==============================] - ETA: 0s - loss: 0.0698\n",
      "Epoch 00006: val_loss did not improve from 0.06807\n",
      "20/20 [==============================] - 2s 84ms/step - loss: 0.0698 - val_loss: 0.0732\n",
      "Epoch 7/400\n",
      "20/20 [==============================] - ETA: 0s - loss: 0.0728\n",
      "Epoch 00007: val_loss did not improve from 0.06807\n",
      "20/20 [==============================] - 2s 84ms/step - loss: 0.0728 - val_loss: 0.0767\n",
      "Epoch 8/400\n",
      "20/20 [==============================] - ETA: 0s - loss: 0.0676\n",
      "Epoch 00008: val_loss did not improve from 0.06807\n",
      "20/20 [==============================] - 2s 85ms/step - loss: 0.0676 - val_loss: 0.0767\n",
      "Epoch 9/400\n",
      "20/20 [==============================] - ETA: 0s - loss: 0.0717\n",
      "Epoch 00009: val_loss improved from 0.06807 to 0.06425, saving model to ./new\\checkpoints\\model.h5\n",
      "20/20 [==============================] - 2s 91ms/step - loss: 0.0717 - val_loss: 0.0642\n",
      "Epoch 10/400\n",
      "20/20 [==============================] - ETA: 0s - loss: 0.0695\n",
      "Epoch 00010: val_loss did not improve from 0.06425\n",
      "20/20 [==============================] - 2s 85ms/step - loss: 0.0695 - val_loss: 0.0839\n",
      "Epoch 11/400\n",
      "20/20 [==============================] - ETA: 0s - loss: 0.0665\n",
      "Epoch 00011: val_loss did not improve from 0.06425\n",
      "20/20 [==============================] - 2s 86ms/step - loss: 0.0665 - val_loss: 0.0859\n",
      "Epoch 12/400\n",
      "20/20 [==============================] - ETA: 0s - loss: 0.0701\n",
      "Epoch 00012: val_loss did not improve from 0.06425\n",
      "20/20 [==============================] - 2s 88ms/step - loss: 0.0701 - val_loss: 0.0691\n",
      "Epoch 13/400\n",
      "20/20 [==============================] - ETA: 0s - loss: 0.0733\n",
      "Epoch 00013: val_loss did not improve from 0.06425\n",
      "20/20 [==============================] - 2s 85ms/step - loss: 0.0733 - val_loss: 0.0696\n",
      "Epoch 14/400\n",
      "20/20 [==============================] - ETA: 0s - loss: 0.0688\n",
      "Epoch 00014: val_loss did not improve from 0.06425\n",
      "20/20 [==============================] - 2s 86ms/step - loss: 0.0688 - val_loss: 0.0776\n",
      "Epoch 15/400\n",
      "20/20 [==============================] - ETA: 0s - loss: 0.0678\n",
      "Epoch 00015: val_loss did not improve from 0.06425\n",
      "20/20 [==============================] - 2s 86ms/step - loss: 0.0678 - val_loss: 0.0718\n",
      "Epoch 16/400\n",
      "20/20 [==============================] - ETA: 0s - loss: 0.0664\n",
      "Epoch 00016: val_loss did not improve from 0.06425\n",
      "20/20 [==============================] - 2s 86ms/step - loss: 0.0664 - val_loss: 0.0720\n",
      "Epoch 17/400\n",
      "20/20 [==============================] - ETA: 0s - loss: 0.0629\n",
      "Epoch 00017: val_loss did not improve from 0.06425\n",
      "20/20 [==============================] - 2s 86ms/step - loss: 0.0629 - val_loss: 0.0720\n",
      "Epoch 18/400\n",
      "20/20 [==============================] - ETA: 0s - loss: 0.0594\n",
      "Epoch 00018: val_loss did not improve from 0.06425\n",
      "20/20 [==============================] - 2s 81ms/step - loss: 0.0594 - val_loss: 0.0767\n",
      "Epoch 19/400\n",
      "20/20 [==============================] - ETA: 0s - loss: 0.0636\n",
      "Epoch 00019: val_loss did not improve from 0.06425\n",
      "20/20 [==============================] - 2s 87ms/step - loss: 0.0636 - val_loss: 0.0861\n",
      "Epoch 20/400\n",
      "20/20 [==============================] - ETA: 0s - loss: 0.0585\n",
      "Epoch 00020: val_loss did not improve from 0.06425\n",
      "20/20 [==============================] - 2s 85ms/step - loss: 0.0585 - val_loss: 0.0832\n",
      "Epoch 21/400\n",
      "20/20 [==============================] - ETA: 0s - loss: 0.0642\n",
      "Epoch 00021: val_loss improved from 0.06425 to 0.06067, saving model to ./new\\checkpoints\\model.h5\n",
      "20/20 [==============================] - 2s 95ms/step - loss: 0.0642 - val_loss: 0.0607\n",
      "Epoch 22/400\n",
      "20/20 [==============================] - ETA: 0s - loss: 0.0631\n",
      "Epoch 00022: val_loss did not improve from 0.06067\n",
      "20/20 [==============================] - 2s 88ms/step - loss: 0.0631 - val_loss: 0.0644\n",
      "Epoch 23/400\n",
      "20/20 [==============================] - ETA: 0s - loss: 0.0670\n",
      "Epoch 00023: val_loss did not improve from 0.06067\n",
      "20/20 [==============================] - 2s 87ms/step - loss: 0.0670 - val_loss: 0.0663\n",
      "Epoch 24/400\n",
      "20/20 [==============================] - ETA: 0s - loss: 0.0563\n",
      "Epoch 00024: val_loss improved from 0.06067 to 0.05893, saving model to ./new\\checkpoints\\model.h5\n",
      "20/20 [==============================] - 2s 93ms/step - loss: 0.0563 - val_loss: 0.0589\n",
      "Epoch 25/400\n",
      "20/20 [==============================] - ETA: 0s - loss: 0.0594\n",
      "Epoch 00025: val_loss did not improve from 0.05893\n",
      "20/20 [==============================] - 2s 84ms/step - loss: 0.0594 - val_loss: 0.0803\n",
      "Epoch 26/400\n",
      "20/20 [==============================] - ETA: 0s - loss: 0.0514\n",
      "Epoch 00026: val_loss did not improve from 0.05893\n",
      "20/20 [==============================] - 2s 83ms/step - loss: 0.0514 - val_loss: 0.0622\n",
      "Epoch 27/400\n",
      "20/20 [==============================] - ETA: 0s - loss: 0.0571\n",
      "Epoch 00027: val_loss improved from 0.05893 to 0.05644, saving model to ./new\\checkpoints\\model.h5\n",
      "20/20 [==============================] - 2s 95ms/step - loss: 0.0571 - val_loss: 0.0564\n",
      "Epoch 28/400\n",
      "20/20 [==============================] - ETA: 0s - loss: 0.0578\n",
      "Epoch 00028: val_loss did not improve from 0.05644\n",
      "20/20 [==============================] - 2s 86ms/step - loss: 0.0578 - val_loss: 0.0615\n",
      "Epoch 29/400\n",
      "20/20 [==============================] - ETA: 0s - loss: 0.0532\n",
      "Epoch 00029: val_loss did not improve from 0.05644\n",
      "20/20 [==============================] - 2s 84ms/step - loss: 0.0532 - val_loss: 0.0595\n",
      "Epoch 30/400\n",
      "20/20 [==============================] - ETA: 0s - loss: 0.0509\n",
      "Epoch 00030: val_loss did not improve from 0.05644\n",
      "20/20 [==============================] - 2s 85ms/step - loss: 0.0509 - val_loss: 0.0570\n",
      "Epoch 31/400\n",
      "20/20 [==============================] - ETA: 0s - loss: 0.0419\n",
      "Epoch 00031: val_loss improved from 0.05644 to 0.05521, saving model to ./new\\checkpoints\\model.h5\n",
      "20/20 [==============================] - 2s 96ms/step - loss: 0.0419 - val_loss: 0.0552\n",
      "Epoch 32/400\n",
      "20/20 [==============================] - ETA: 0s - loss: 0.0423\n",
      "Epoch 00032: val_loss improved from 0.05521 to 0.05305, saving model to ./new\\checkpoints\\model.h5\n",
      "20/20 [==============================] - 2s 88ms/step - loss: 0.0423 - val_loss: 0.0531\n",
      "Epoch 33/400\n",
      "20/20 [==============================] - ETA: 0s - loss: 0.0417\n",
      "Epoch 00033: val_loss did not improve from 0.05305\n",
      "20/20 [==============================] - 2s 82ms/step - loss: 0.0417 - val_loss: 0.0560\n",
      "Epoch 34/400\n",
      "20/20 [==============================] - ETA: 0s - loss: 0.0436\n",
      "Epoch 00034: val_loss did not improve from 0.05305\n",
      "20/20 [==============================] - 2s 87ms/step - loss: 0.0436 - val_loss: 0.0666\n",
      "Epoch 35/400\n",
      "20/20 [==============================] - ETA: 0s - loss: 0.0427\n",
      "Epoch 00035: val_loss improved from 0.05305 to 0.05293, saving model to ./new\\checkpoints\\model.h5\n"
     ]
    },
    {
     "name": "stdout",
     "output_type": "stream",
     "text": [
      "20/20 [==============================] - 2s 95ms/step - loss: 0.0427 - val_loss: 0.0529\n",
      "Epoch 36/400\n",
      " 7/20 [=========>....................] - ETA: 0s - loss: 0.0400"
     ]
    }
   ],
   "source": [
    "history = model.fit_generator(generator=gen_train.get_iterator(train=True),\n",
    "                              steps_per_epoch=20,\n",
    "                              epochs=400,\n",
    "                              initial_epoch=0,\n",
    "                              validation_data=gen_valid.get_iterator(train=False),\n",
    "                              validation_steps=2,\n",
    "                              callbacks=get_callbacks(logdir, 0.002, 350),\n",
    "                              use_multiprocessing=False\n",
    "                              )"
   ]
  },
  {
   "cell_type": "code",
   "execution_count": 28,
   "metadata": {},
   "outputs": [
    {
     "data": {
      "image/png": "[encoded data removed]",
      "text/plain": [
       "<Figure size 1008x576 with 1 Axes>"
      ]
     },
     "metadata": {
      "needs_background": "light"
     },
     "output_type": "display_data"
    }
   ],
   "source": [
    "model.save(os.path.join(logdir, \"checkpoints\", \"model_final.h5\"))\n",
    "plot_history(logdir, history)"
   ]
  },
  {
   "cell_type": "markdown",
   "metadata": {
    "deletable": false,
    "editable": false,
    "run_control": {
     "frozen": true
    }
   },
   "source": [
    "## Model validation"
   ]
  },
  {
   "cell_type": "code",
   "execution_count": 14,
   "metadata": {},
   "outputs": [
    {
     "name": "stdout",
     "output_type": "stream",
     "text": [
      "100/100 [==============================] - 2s 23ms/step - loss: 0.0136\n",
      "CPU times: user 2.82 s, sys: 156 ms, total: 2.98 s\n",
      "Wall time: 2.48 s\n"
     ]
    },
    {
     "data": {
      "text/plain": [
       "0.013635175302624702"
      ]
     },
     "execution_count": 14,
     "metadata": {},
     "output_type": "execute_result"
    }
   ],
   "source": [
    "%%time\n",
    "# CALC TEST METRICS WITHOUT AUGMENTATION\n",
    "gen_test = Generator(loader_valid, 7)\n",
    "model.evaluate(gen_test.get_iterator(train=False), steps=100)"
   ]
  },
  {
   "cell_type": "code",
   "execution_count": 15,
   "metadata": {},
   "outputs": [
    {
     "data": {
      "image/png": "[encoded data removed]",
      "text/plain": [
       "<Figure size 432x288 with 1 Axes>"
      ]
     },
     "metadata": {
      "needs_background": "light"
     },
     "output_type": "display_data"
    }
   ],
   "source": [
    "loader_valid.do_augmentation = True\n",
    "item_id = np.random.randint(100)\n",
    "x, y = loader_valid.get_item(loader_valid.valid_set[item_id])\n",
    "\n",
    "lmarks = model.predict(np.expand_dims(x, 0)).flatten()\n",
    "#print(model.evaluate(np.expand_dims(x, 0), np.expand_dims(y, 0), steps=1, verbose=0))\n",
    "show_xy(x, y, lmarks)"
   ]
  },
  {
   "cell_type": "code",
   "execution_count": 21,
   "metadata": {},
   "outputs": [
    {
     "name": "stdout",
     "output_type": "stream",
     "text": [
      ">>> Output images are placed in ./croptest_out folder\n"
     ]
    },
    {
     "data": {
      "text/plain": [
       "0.0"
      ]
     },
     "execution_count": 21,
     "metadata": {},
     "output_type": "execute_result"
    }
   ],
   "source": [
    "from testtools import CropTester\n",
    "def keras_wrapper(img_crop):\n",
    "    \"\"\"\n",
    "    input img_crop: face crop before resize\n",
    "    output: landmarks as flatten np.array\n",
    "    \"\"\"\n",
    "    net_input = cv2.cvtColor(img_crop, cv2.COLOR_BGR2GRAY)\n",
    "    net_input = cv2.resize(net_input, model.input_shape[1:-1][::-1])\n",
    "    net_input = net_input.reshape(1, net_input.shape[0], net_input.shape[1], 1)\n",
    "    lmarks = model.predict(net_input)\n",
    "    return lmarks\n",
    "\n",
    "ct = CropTester(keras_wrapper, num_iterations=5, pad_min_max=(0.0, 0.), crop_type=\"rand\", rseed=1)\n",
    "#ct.test_image(\"/media/hdd/public/Datasets/faces/300W/test_crop/ibug/000385.png\")\n",
    "ct.test_image(\"/media/hdd/public/Datasets/faces/300W/test_crop/helen/000022.png\", color=(255, 0, 0))\n",
    "\n",
    "ct.mean_pixel_std()"
   ]
  },
  {
   "cell_type": "markdown",
   "metadata": {},
   "source": [
    "## Freeze model"
   ]
  },
  {
   "cell_type": "code",
   "execution_count": 17,
   "metadata": {},
   "outputs": [],
   "source": [
    "model = fconv2d((imsize[1], imsize[0], 1), 8, train_mode=False)\n",
    "model.load_weights(os.path.join(logdir, \"checkpoints/model_final.h5\"), by_name=True)\n",
    "model.save(os.path.join(logdir, \"checkpoints/model_infer.h5\"))"
   ]
  },
  {
   "cell_type": "code",
   "execution_count": 18,
   "metadata": {},
   "outputs": [],
   "source": [
    "import subprocess\n",
    "import sys\n",
    "subprocess.Popen([r\"/bin/bash\"])\n",
    "process_params = [r\"{}\".format(sys.executable),\n",
    "                  r\"freeze_graph.py\",\n",
    "                  r\"{}\".format(os.path.join(logdir, \"checkpoints/model_infer.h5\"))]\n",
    "res = subprocess.Popen(process_params)"
   ]
  },
  {
   "cell_type": "code",
   "execution_count": 14,
   "metadata": {},
   "outputs": [
    {
     "data": {
      "text/plain": [
       "'/usr/bin/python3.7'"
      ]
     },
     "execution_count": 14,
     "metadata": {},
     "output_type": "execute_result"
    }
   ],
   "source": [
    "import sys\n",
    "sys.executable"
   ]
  },
  {
   "cell_type": "code",
   "execution_count": 18,
   "metadata": {},
   "outputs": [
    {
     "name": "stdout",
     "output_type": "stream",
     "text": [
      "Thu Apr  7 13:52:38 2022       \n",
      "+-----------------------------------------------------------------------------+\n",
      "| NVIDIA-SMI 410.104      Driver Version: 410.104      CUDA Version: 10.0     |\n",
      "|-------------------------------+----------------------+----------------------+\n",
      "| GPU  Name        Persistence-M| Bus-Id        Disp.A | Volatile Uncorr. ECC |\n",
      "| Fan  Temp  Perf  Pwr:Usage/Cap|         Memory-Usage | GPU-Util  Compute M. |\n",
      "|===============================+======================+======================|\n",
      "|   0  Tesla M40           Off  | 00000000:02:00.0 Off |                    0 |\n",
      "| N/A   34C    P0    61W / 250W |  10880MiB / 11448MiB |      0%      Default |\n",
      "+-------------------------------+----------------------+----------------------+\n",
      "|   1  Tesla M40           Off  | 00000000:03:00.0 Off |                    0 |\n",
      "| N/A   35C    P0    60W / 250W |    292MiB / 11448MiB |      0%      Default |\n",
      "+-------------------------------+----------------------+----------------------+\n",
      "|   2  Tesla M40           Off  | 00000000:83:00.0 Off |                    0 |\n",
      "| N/A   22C    P8    17W / 250W |     11MiB / 11448MiB |      0%      Default |\n",
      "+-------------------------------+----------------------+----------------------+\n",
      "|   3  Tesla M40           Off  | 00000000:84:00.0 Off |                    0 |\n",
      "| N/A   23C    P8    16W / 250W |     11MiB / 11448MiB |      0%      Default |\n",
      "+-------------------------------+----------------------+----------------------+\n",
      "                                                                               \n",
      "+-----------------------------------------------------------------------------+\n",
      "| Processes:                                                       GPU Memory |\n",
      "|  GPU       PID   Type   Process name                             Usage      |\n",
      "|=============================================================================|\n",
      "+-----------------------------------------------------------------------------+\n"
     ]
    }
   ],
   "source": [
    "!nvidia-smi"
   ]
  },
  {
   "cell_type": "code",
   "execution_count": 19,
   "metadata": {},
   "outputs": [
    {
     "name": "stdout",
     "output_type": "stream",
     "text": [
      "/usr/local/lib/python3.7/dist-packages/tensorflow/python/framework/dtypes.py:516: FutureWarning: Passing (type, 1) or '1type' as a synonym of type is deprecated; in a future version of numpy, it will be understood as (type, (1,)) / '(1,)type'.\n",
      "  _np_qint8 = np.dtype([(\"qint8\", np.int8, 1)])\n",
      "/usr/local/lib/python3.7/dist-packages/tensorflow/python/framework/dtypes.py:517: FutureWarning: Passing (type, 1) or '1type' as a synonym of type is deprecated; in a future version of numpy, it will be understood as (type, (1,)) / '(1,)type'.\n",
      "  _np_quint8 = np.dtype([(\"quint8\", np.uint8, 1)])\n",
      "/usr/local/lib/python3.7/dist-packages/tensorflow/python/framework/dtypes.py:518: FutureWarning: Passing (type, 1) or '1type' as a synonym of type is deprecated; in a future version of numpy, it will be understood as (type, (1,)) / '(1,)type'.\n",
      "  _np_qint16 = np.dtype([(\"qint16\", np.int16, 1)])\n",
      "/usr/local/lib/python3.7/dist-packages/tensorflow/python/framework/dtypes.py:519: FutureWarning: Passing (type, 1) or '1type' as a synonym of type is deprecated; in a future version of numpy, it will be understood as (type, (1,)) / '(1,)type'.\n",
      "  _np_quint16 = np.dtype([(\"quint16\", np.uint16, 1)])\n",
      "/usr/local/lib/python3.7/dist-packages/tensorflow/python/framework/dtypes.py:520: FutureWarning: Passing (type, 1) or '1type' as a synonym of type is deprecated; in a future version of numpy, it will be understood as (type, (1,)) / '(1,)type'.\n",
      "  _np_qint32 = np.dtype([(\"qint32\", np.int32, 1)])\n",
      "/usr/local/lib/python3.7/dist-packages/tensorflow/python/framework/dtypes.py:525: FutureWarning: Passing (type, 1) or '1type' as a synonym of type is deprecated; in a future version of numpy, it will be understood as (type, (1,)) / '(1,)type'.\n",
      "  np_resource = np.dtype([(\"resource\", np.ubyte, 1)])\n",
      "/usr/local/lib/python3.7/dist-packages/tensorboard/compat/tensorflow_stub/dtypes.py:541: FutureWarning: Passing (type, 1) or '1type' as a synonym of type is deprecated; in a future version of numpy, it will be understood as (type, (1,)) / '(1,)type'.\n",
      "  _np_qint8 = np.dtype([(\"qint8\", np.int8, 1)])\n",
      "/usr/local/lib/python3.7/dist-packages/tensorboard/compat/tensorflow_stub/dtypes.py:542: FutureWarning: Passing (type, 1) or '1type' as a synonym of type is deprecated; in a future version of numpy, it will be understood as (type, (1,)) / '(1,)type'.\n",
      "  _np_quint8 = np.dtype([(\"quint8\", np.uint8, 1)])\n",
      "/usr/local/lib/python3.7/dist-packages/tensorboard/compat/tensorflow_stub/dtypes.py:543: FutureWarning: Passing (type, 1) or '1type' as a synonym of type is deprecated; in a future version of numpy, it will be understood as (type, (1,)) / '(1,)type'.\n",
      "  _np_qint16 = np.dtype([(\"qint16\", np.int16, 1)])\n",
      "/usr/local/lib/python3.7/dist-packages/tensorboard/compat/tensorflow_stub/dtypes.py:544: FutureWarning: Passing (type, 1) or '1type' as a synonym of type is deprecated; in a future version of numpy, it will be understood as (type, (1,)) / '(1,)type'.\n",
      "  _np_quint16 = np.dtype([(\"quint16\", np.uint16, 1)])\n",
      "/usr/local/lib/python3.7/dist-packages/tensorboard/compat/tensorflow_stub/dtypes.py:545: FutureWarning: Passing (type, 1) or '1type' as a synonym of type is deprecated; in a future version of numpy, it will be understood as (type, (1,)) / '(1,)type'.\n",
      "  _np_qint32 = np.dtype([(\"qint32\", np.int32, 1)])\n",
      "/usr/local/lib/python3.7/dist-packages/tensorboard/compat/tensorflow_stub/dtypes.py:550: FutureWarning: Passing (type, 1) or '1type' as a synonym of type is deprecated; in a future version of numpy, it will be understood as (type, (1,)) / '(1,)type'.\n",
      "  np_resource = np.dtype([(\"resource\", np.ubyte, 1)])\n",
      "WARNING:tensorflow:From /usr/local/lib/python3.7/dist-packages/tensorflow/python/ops/init_ops.py:97: calling Zeros.__init__ (from tensorflow.python.ops.init_ops) with dtype is deprecated and will be removed in a future version.\n",
      "Instructions for updating:\n",
      "Call initializer instance with the dtype argument instead of passing it to the constructor\n",
      "WARNING:tensorflow:From /usr/local/lib/python3.7/dist-packages/tensorflow/python/ops/init_ops.py:97: calling Ones.__init__ (from tensorflow.python.ops.init_ops) with dtype is deprecated and will be removed in a future version.\n",
      "Instructions for updating:\n",
      "Call initializer instance with the dtype argument instead of passing it to the constructor\n",
      "WARNING:tensorflow:From /usr/local/lib/python3.7/dist-packages/tensorflow/python/ops/init_ops.py:97: calling GlorotUniform.__init__ (from tensorflow.python.ops.init_ops) with dtype is deprecated and will be removed in a future version.\n",
      "Instructions for updating:\n",
      "Call initializer instance with the dtype argument instead of passing it to the constructor\n",
      "WARNING:tensorflow:From /usr/local/lib/python3.7/dist-packages/tensorflow/python/ops/init_ops.py:1251: calling VarianceScaling.__init__ (from tensorflow.python.ops.init_ops) with dtype is deprecated and will be removed in a future version.\n",
      "Instructions for updating:\n",
      "Call initializer instance with the dtype argument instead of passing it to the constructor\n",
      "2022-04-07 13:52:54.271506: I tensorflow/core/platform/cpu_feature_guard.cc:142] Your CPU supports instructions that this TensorFlow binary was not compiled to use: AVX2 FMA\n",
      "2022-04-07 13:52:54.290433: I tensorflow/core/platform/profile_utils/cpu_utils.cc:94] CPU Frequency: 2200015000 Hz\n",
      "2022-04-07 13:52:54.296906: I tensorflow/compiler/xla/service/service.cc:168] XLA service 0x4962790 executing computations on platform Host. Devices:\n",
      "2022-04-07 13:52:54.296961: I tensorflow/compiler/xla/service/service.cc:175]   StreamExecutor device (0): <undefined>, <undefined>\n",
      "2022-04-07 13:52:54.301730: I tensorflow/stream_executor/platform/default/dso_loader.cc:42] Successfully opened dynamic library libcuda.so.1\n",
      "2022-04-07 13:52:54.515532: I tensorflow/compiler/xla/service/service.cc:168] XLA service 0x4a13a50 executing computations on platform CUDA. Devices:\n",
      "2022-04-07 13:52:54.515590: I tensorflow/compiler/xla/service/service.cc:175]   StreamExecutor device (0): Tesla M40, Compute Capability 5.2\n",
      "2022-04-07 13:52:54.516815: I tensorflow/core/common_runtime/gpu/gpu_device.cc:1640] Found device 0 with properties: \n",
      "name: Tesla M40 major: 5 minor: 2 memoryClockRate(GHz): 1.112\n",
      "pciBusID: 0000:03:00.0\n",
      "2022-04-07 13:52:54.517233: I tensorflow/stream_executor/platform/default/dso_loader.cc:42] Successfully opened dynamic library libcudart.so.10.0\n",
      "2022-04-07 13:52:54.519057: I tensorflow/stream_executor/platform/default/dso_loader.cc:42] Successfully opened dynamic library libcublas.so.10.0\n",
      "2022-04-07 13:52:54.521065: I tensorflow/stream_executor/platform/default/dso_loader.cc:42] Successfully opened dynamic library libcufft.so.10.0\n",
      "2022-04-07 13:52:54.521674: I tensorflow/stream_executor/platform/default/dso_loader.cc:42] Successfully opened dynamic library libcurand.so.10.0\n",
      "2022-04-07 13:52:54.524627: I tensorflow/stream_executor/platform/default/dso_loader.cc:42] Successfully opened dynamic library libcusolver.so.10.0\n",
      "2022-04-07 13:52:54.526902: I tensorflow/stream_executor/platform/default/dso_loader.cc:42] Successfully opened dynamic library libcusparse.so.10.0\n",
      "2022-04-07 13:52:54.533568: I tensorflow/stream_executor/platform/default/dso_loader.cc:42] Successfully opened dynamic library libcudnn.so.7\n",
      "2022-04-07 13:52:54.536414: I tensorflow/core/common_runtime/gpu/gpu_device.cc:1763] Adding visible gpu devices: 0\n",
      "2022-04-07 13:52:54.536491: I tensorflow/stream_executor/platform/default/dso_loader.cc:42] Successfully opened dynamic library libcudart.so.10.0\n",
      "2022-04-07 13:52:54.538664: I tensorflow/core/common_runtime/gpu/gpu_device.cc:1181] Device interconnect StreamExecutor with strength 1 edge matrix:\n",
      "2022-04-07 13:52:54.538701: I tensorflow/core/common_runtime/gpu/gpu_device.cc:1187]      0 \n",
      "2022-04-07 13:52:54.538718: I tensorflow/core/common_runtime/gpu/gpu_device.cc:1200] 0:   N \n",
      "2022-04-07 13:52:54.541889: I tensorflow/core/common_runtime/gpu/gpu_device.cc:1326] Created TensorFlow device (/job:localhost/replica:0/task:0/device:GPU:0 with 10498 MB memory) -> physical GPU (device: 0, name: Tesla M40, pci bus id: 0000:03:00.0, compute capability: 5.2)\n",
      "WARNING:tensorflow:No training configuration found in save file: the model was *not* compiled. Compile it manually.\n",
      "WARNING:tensorflow:From freeze_graph.py:50: convert_variables_to_constants (from tensorflow.python.framework.graph_util_impl) is deprecated and will be removed in a future version.\n",
      "Instructions for updating:\n",
      "Use `tf.compat.v1.graph_util.convert_variables_to_constants`\n",
      "WARNING:tensorflow:From /usr/local/lib/python3.7/dist-packages/tensorflow/python/framework/graph_util_impl.py:270: extract_sub_graph (from tensorflow.python.framework.graph_util_impl) is deprecated and will be removed in a future version.\n",
      "Instructions for updating:\n",
      "Use `tf.compat.v1.graph_util.extract_sub_graph`\n",
      "WARNING:tensorflow:From /usr/local/lib/python3.7/dist-packages/tensorflow/python/tools/optimize_for_inference_lib.py:113: remove_training_nodes (from tensorflow.python.framework.graph_util_impl) is deprecated and will be removed in a future version.\n",
      "Instructions for updating:\n",
      "Use `tf.compat.v1.graph_util.remove_training_nodes`\n",
      "WARNING:tensorflow:Didn't find expected Conv2D input to 'batch_normalization/FusedBatchNorm'\n"
     ]
    },
    {
     "name": "stdout",
     "output_type": "stream",
     "text": [
      "Traceback (most recent call last):\r\n",
      "  File \"freeze_graph.py\", line 58, in <module>\r\n",
      "    test_input = np.ones((1,) + model.input.shape[1:])\r\n",
      "TypeError: can only concatenate tuple (not \"TensorShape\") to tuple\r\n"
     ]
    }
   ],
   "source": [
    "!/usr/bin/python3.7 freeze_graph.py bn_tuning/checkpoints/model_infer.h5"
   ]
  },
  {
   "cell_type": "code",
   "execution_count": 24,
   "metadata": {},
   "outputs": [
    {
     "name": "stdout",
     "output_type": "stream",
     "text": [
      "2.2.0\n",
      "2.3.0-tf\n",
      "/usr/bin/python3.7\n"
     ]
    }
   ],
   "source": [
    "import tensorflow\n",
    "from tensorflow import keras\n",
    "\n",
    "print(tensorflow.__version__)\n",
    "print(keras.__version__)\n",
    "print(sys.executable)"
   ]
  },
  {
   "cell_type": "code",
   "execution_count": null,
   "metadata": {},
   "outputs": [],
   "source": []
  }
 ],
 "metadata": {
  "kernelspec": {
   "display_name": "Python [conda env:fastlmarks]",
   "language": "python",
   "name": "conda-env-fastlmarks-py"
  },
  "language_info": {
   "codemirror_mode": {
    "name": "ipython",
    "version": 3
   },
   "file_extension": ".py",
   "mimetype": "text/x-python",
   "name": "python",
   "nbconvert_exporter": "python",
   "pygments_lexer": "ipython3",
   "version": "3.7.0"
  },
  "toc": {
   "base_numbering": 1,
   "nav_menu": {},
   "number_sections": true,
   "sideBar": true,
   "skip_h1_title": false,
   "title_cell": "Table of Contents",
   "title_sidebar": "Contents",
   "toc_cell": false,
   "toc_position": {},
   "toc_section_display": true,
   "toc_window_display": true
  },
  "varInspector": {
   "cols": {
    "lenName": 16,
    "lenType": 16,
    "lenVar": 40
   },
   "kernels_config": {
    "python": {
     "delete_cmd_postfix": "",
     "delete_cmd_prefix": "del ",
     "library": "var_list.py",
     "varRefreshCmd": "print(var_dic_list())"
    },
    "r": {
     "delete_cmd_postfix": ") ",
     "delete_cmd_prefix": "rm(",
     "library": "var_list.r",
     "varRefreshCmd": "cat(var_dic_list()) "
    }
   },
   "types_to_exclude": [
    "module",
    "function",
    "builtin_function_or_method",
    "instance",
    "_Feature"
   ],
   "window_display": false
  }
 },
 "nbformat": 4,
 "nbformat_minor": 4
}
