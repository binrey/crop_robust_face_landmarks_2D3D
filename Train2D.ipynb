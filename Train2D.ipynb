{
 "cells": [
  {
   "cell_type": "markdown",
   "metadata": {
    "deletable": false,
    "editable": false,
    "run_control": {
     "frozen": true
    }
   },
   "source": [
    "# Train 2D landmarks detector"
   ]
  },
  {
   "cell_type": "code",
   "execution_count": null,
   "metadata": {
    "ExecuteTime": {
     "end_time": "2022-04-14T14:07:52.149525Z",
     "start_time": "2022-04-14T14:07:50.638491Z"
    }
   },
   "outputs": [],
   "source": [
    "import os\n",
    "import matplotlib\n",
    "import cv2\n",
    "import sys\n",
    "import numpy as np\n",
    "from matplotlib import pyplot as plt\n",
    "from datatools import Loader2D, Generator, Aug2D\n",
    "from traintools import plot_history, get_callbacks, create_dirs\n",
    "from testtools import plot2D\n",
    "\n",
    "os.environ[\"CUDA_DEVICE_ORDER\"] = \"PCI_BUS_ID\"\n",
    "os.environ[\"CUDA_VISIBLE_DEVICES\"] = \"0\" # gpu id to use\n",
    "\n",
    "%matplotlib inline\n",
    "%load_ext autoreload\n",
    "%autoreload 2"
   ]
  },
  {
   "cell_type": "markdown",
   "metadata": {
    "deletable": false,
    "editable": false,
    "run_control": {
     "frozen": true
    }
   },
   "source": [
    "## Main settings"
   ]
  },
  {
   "cell_type": "code",
   "execution_count": null,
   "metadata": {
    "ExecuteTime": {
     "end_time": "2022-04-14T14:07:55.559012Z",
     "start_time": "2022-04-14T14:07:55.538147Z"
    }
   },
   "outputs": [],
   "source": [
    "data_dir = \"300W\"\n",
    "project_name = \"new\"\n",
    "imsize = (64, 64)\n",
    "used_lmarks = None\n",
    "\n",
    "logdir = create_dirs(project_name)"
   ]
  },
  {
   "cell_type": "code",
   "execution_count": null,
   "metadata": {
    "ExecuteTime": {
     "end_time": "2022-04-14T14:07:56.193720Z",
     "start_time": "2022-04-14T14:07:56.170341Z"
    }
   },
   "outputs": [],
   "source": [
    "# Choise only needed landmarks or skip this cell\n",
    "used_lmarks = []\n",
    "for i in [8, 30, 36, 39, 42, 45, 48, 54]:\n",
    "    used_lmarks += list(range(i*2, i*2+2))"
   ]
  },
  {
   "cell_type": "markdown",
   "metadata": {
    "deletable": false,
    "editable": false,
    "run_control": {
     "frozen": true
    }
   },
   "source": [
    "## Data loaders initialization and checkup"
   ]
  },
  {
   "cell_type": "code",
   "execution_count": null,
   "metadata": {
    "ExecuteTime": {
     "end_time": "2022-04-13T13:36:11.879620Z",
     "start_time": "2022-04-13T13:36:11.590303Z"
    }
   },
   "outputs": [],
   "source": [
    "# Init loader for training images\n",
    "loader_train = Loader2D(data_dir=os.path.join(data_dir, \"train_crop\"), \n",
    "                        img_size=imsize, \n",
    "                        valid_size=0, \n",
    "                        augmenter=Aug2D(),\n",
    "                        used_lmarks=used_lmarks\n",
    "                       )   \n",
    "# Init loader for test/validation images\n",
    "loader_valid = Loader2D(data_dir=os.path.join(data_dir, \"test_crop\"), \n",
    "                        img_size=imsize, \n",
    "                        valid_size=1, \n",
    "                        augmenter=None,\n",
    "                        used_lmarks=used_lmarks\n",
    "                       )  "
   ]
  },
  {
   "cell_type": "code",
   "execution_count": null,
   "metadata": {
    "ExecuteTime": {
     "end_time": "2022-04-13T13:37:01.592259Z",
     "start_time": "2022-04-13T13:37:01.114662Z"
    }
   },
   "outputs": [],
   "source": [
    "# Test a generator\n",
    "n = 0\n",
    "for x, y in Generator(loader_valid, 8).get_iterator(train=False):\n",
    "    n += 1\n",
    "    print(x.shape, y.shape)\n",
    "    if n >= 3:\n",
    "        break"
   ]
  },
  {
   "cell_type": "code",
   "execution_count": null,
   "metadata": {
    "ExecuteTime": {
     "end_time": "2022-04-13T13:37:09.987518Z",
     "start_time": "2022-04-13T13:37:09.522384Z"
    }
   },
   "outputs": [],
   "source": [
    "x, y = loader_train.get_item(loader_train.train_set[np.random.randint(10)])\n",
    "plot2D(x[..., 0], y.reshape(-1, 2))\n",
    "print(\"image min/max:\", x.min(), x.max())"
   ]
  },
  {
   "cell_type": "markdown",
   "metadata": {
    "deletable": false,
    "editable": false,
    "run_control": {
     "frozen": true
    }
   },
   "source": [
    "## Model initialization"
   ]
  },
  {
   "cell_type": "code",
   "execution_count": null,
   "metadata": {
    "ExecuteTime": {
     "end_time": "2022-04-13T13:37:11.742413Z",
     "start_time": "2022-04-13T13:37:11.193621Z"
    }
   },
   "outputs": [],
   "source": [
    "from models import fconv2d as lmarks_model\n",
    "from tensorflow.keras.optimizers import Adam\n",
    "\n",
    "model = lmarks_model((imsize[1], imsize[0], 1), lmarks_count=8, normalize_input=1)\n",
    "model.compile(loss=\"mean_absolute_error\", optimizer=Adam())\n",
    "print(model.summary(100))"
   ]
  },
  {
   "cell_type": "markdown",
   "metadata": {},
   "source": [
    "## Start training"
   ]
  },
  {
   "cell_type": "code",
   "execution_count": null,
   "metadata": {
    "ExecuteTime": {
     "start_time": "2022-04-13T13:37:20.109Z"
    }
   },
   "outputs": [],
   "source": [
    "gen_train = Generator(loader_train, 128)\n",
    "gen_valid = Generator(loader_valid, 128)\n",
    "\n",
    "history = model.fit_generator(generator=gen_train.get_iterator(train=True),\n",
    "                              steps_per_epoch=20,\n",
    "                              epochs=400,\n",
    "                              initial_epoch=0,\n",
    "                              validation_data=gen_valid.get_iterator(train=False),\n",
    "                              validation_steps=25,\n",
    "                              callbacks=get_callbacks(logdir, 0.002, 350),\n",
    "                              use_multiprocessing=False\n",
    "                              )\n",
    "\n",
    "model.save(os.path.join(logdir, \"checkpoints\", \"model_final.h5\"))\n",
    "plot_history(logdir, history)"
   ]
  },
  {
   "cell_type": "markdown",
   "metadata": {
    "deletable": false,
    "editable": false,
    "run_control": {
     "frozen": true
    }
   },
   "source": [
    "## Model validation"
   ]
  },
  {
   "cell_type": "code",
   "execution_count": null,
   "metadata": {
    "ExecuteTime": {
     "end_time": "2022-04-14T14:07:25.072000Z",
     "start_time": "2022-04-14T14:07:25.062535Z"
    }
   },
   "outputs": [],
   "source": [
    "# Choise model to test\n",
    "from tensorflow.keras.models import load_model\n",
    "model = load_model(os.path.join(\"vanilla-68\", \"checkpoints\", \"model_final.h5\"))\n",
    "model.compile(loss=\"mean_absolute_error\")"
   ]
  },
  {
   "cell_type": "code",
   "execution_count": null,
   "metadata": {
    "ExecuteTime": {
     "end_time": "2022-04-14T14:07:46.423625Z",
     "start_time": "2022-04-14T14:07:46.382668Z"
    }
   },
   "outputs": [],
   "source": [
    "# CALC TEST METRICS WITHOUT AUGMENTATION\n",
    "bsize = 5\n",
    "gen_test = Generator(loader_valid, bsize)\n",
    "model.evaluate(gen_test.get_iterator(train=False), steps=len(loader_valid.valid_set)//bsize)"
   ]
  },
  {
   "cell_type": "code",
   "execution_count": null,
   "metadata": {},
   "outputs": [],
   "source": [
    "item_id = np.random.randint(10)\n",
    "x, y = loader_valid.get_item(loader_valid.valid_set[item_id])\n",
    "\n",
    "lmarks = model.predict(np.expand_dims(x, 0)).flatten()\n",
    "print(model.evaluate(np.expand_dims(x, 0), np.expand_dims(y, 0), steps=1, verbose=0))\n",
    "plot2D(x[..., 0], y.reshape(-1, 2), lmarks.reshape(-1, 2));"
   ]
  },
  {
   "cell_type": "code",
   "execution_count": null,
   "metadata": {},
   "outputs": [],
   "source": [
    "from testtools import CropTester, keras_wrapper\n",
    "\n",
    "ct = CropTester(keras_wrapper(model), num_iterations=5, pad_min_max=(0.0, 0.2), crop_type=\"rand\", rseed=1)\n",
    "ct.test_image(\"300W/test_crop/helen/000000.png\", color=(255, 0, 0))\n",
    "ct.scatter_all()\n",
    "ct.mean_pixel_std()"
   ]
  },
  {
   "cell_type": "markdown",
   "metadata": {},
   "source": [
    "## Freeze model"
   ]
  },
  {
   "cell_type": "code",
   "execution_count": null,
   "metadata": {},
   "outputs": [],
   "source": [
    "model = lmarks_model((imsize[1], imsize[0], 1))\n",
    "model.load_weights(os.path.join(logdir, \"checkpoints/model_final.h5\"), by_name=True)\n",
    "model.save(os.path.join(logdir, \"checkpoints/model_infer.h5\"))"
   ]
  },
  {
   "cell_type": "code",
   "execution_count": null,
   "metadata": {},
   "outputs": [],
   "source": [
    "import subprocess\n",
    "import sys\n",
    "subprocess.Popen([r\"/bin/bash\"])\n",
    "process_params = [r\"{}\".format(sys.executable),\n",
    "                  r\"freeze_graph.py\",\n",
    "                  r\"{}\".format(os.path.join(logdir, \"checkpoints/model_infer.h5\"))]\n",
    "res = subprocess.Popen(process_params)\n",
    "\n",
    "# Is equal to:\n",
    "# !/home/rybin/miniconda3/envs/dm/bin/python freeze_graph.py vanilla-68/checkpoints/model_infer.h5"
   ]
  },
  {
   "cell_type": "code",
   "execution_count": null,
   "metadata": {},
   "outputs": [],
   "source": []
  }
 ],
 "metadata": {
  "hide_input": false,
  "kernelspec": {
   "display_name": "Python [conda env:dm]",
   "language": "python",
   "name": "conda-env-dm-py"
  },
  "language_info": {
   "codemirror_mode": {
    "name": "ipython",
    "version": 3
   },
   "file_extension": ".py",
   "mimetype": "text/x-python",
   "name": "python",
   "nbconvert_exporter": "python",
   "pygments_lexer": "ipython3",
   "version": "3.6.13"
  },
  "toc": {
   "base_numbering": 1,
   "nav_menu": {},
   "number_sections": true,
   "sideBar": true,
   "skip_h1_title": false,
   "title_cell": "Table of Contents",
   "title_sidebar": "Contents",
   "toc_cell": false,
   "toc_position": {},
   "toc_section_display": true,
   "toc_window_display": true
  },
  "varInspector": {
   "cols": {
    "lenName": 16,
    "lenType": 16,
    "lenVar": 40
   },
   "kernels_config": {
    "python": {
     "delete_cmd_postfix": "",
     "delete_cmd_prefix": "del ",
     "library": "var_list.py",
     "varRefreshCmd": "print(var_dic_list())"
    },
    "r": {
     "delete_cmd_postfix": ") ",
     "delete_cmd_prefix": "rm(",
     "library": "var_list.r",
     "varRefreshCmd": "cat(var_dic_list()) "
    }
   },
   "types_to_exclude": [
    "module",
    "function",
    "builtin_function_or_method",
    "instance",
    "_Feature"
   ],
   "window_display": false
  }
 },
 "nbformat": 4,
 "nbformat_minor": 4
}
